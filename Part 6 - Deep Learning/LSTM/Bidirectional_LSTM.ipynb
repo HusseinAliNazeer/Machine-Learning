{
  "nbformat": 4,
  "nbformat_minor": 0,
  "metadata": {
    "colab": {
      "name": "Bidirectional_LSTM.ipynb",
      "provenance": []
    },
    "kernelspec": {
      "name": "python3",
      "display_name": "Python 3"
    },
    "accelerator": "TPU"
  },
  "cells": [
    {
      "cell_type": "markdown",
      "metadata": {
        "id": "7GOB9eZHA4_s"
      },
      "source": [
        "# Architecture\n",
        "> Bidirectional LSTMs focus on the problem of getting the most out of the input sequence by\n",
        "stepping through input time steps in both the forward and backward directions\n"
      ]
    },
    {
      "cell_type": "markdown",
      "metadata": {
        "id": "SR5qLYRpBRzO"
      },
      "source": [
        "# Implementation\n",
        "- The LSTM layer in Keras allow you to specify the directionality of the input sequence. This can\n",
        "be done by setting the go backwards argument to True (defaults to False).\n",
        "```python\n",
        "model = Sequential()\n",
        "model.add(LSTM(..., input_shape=(...), go_backwards=True))\n",
        "\n",
        "- Specifically, Bidirectional LSTMs are supported in Keras via the Bidirectional layer wrapper that essentially merges the output from two parallel LSTMs, one with input processed forward and one with output\n",
        "processed backwards. This wrapper takes a recurrent layer (e.g. the first hidden LSTM layer) as\n",
        "an argument.\n",
        "```\n",
        "model = Sequential()\n",
        "model.add(Bidirectional(LSTM(...), input_shape=(...)))\n",
        "```\n",
        "\n",
        "- The Bidirectional wrapper layer also allows you to specify the merge mode; that is how\n",
        "the forward and backward outputs should be combined before being passed on to the next layer.\n",
        "The options are:\n",
        ">- ‘sum’: The outputs are added together.  \n",
        ">- ‘mul’: The outputs are multiplied together.  \n",
        ">- ‘concat’: The outputs are concatenated together (the default), providing double the\n",
        "number of outputs to the next layer.  \n",
        ">- ‘ave’: The average of the outputs is taken.\n",
        "\n",
        "\n",
        "\n",
        "\n",
        "\n"
      ]
    },
    {
      "cell_type": "markdown",
      "metadata": {
        "id": "Wcq2iCtrDusb"
      },
      "source": [
        "# Cumulative Sum Prediction Problem\n"
      ]
    },
    {
      "cell_type": "markdown",
      "metadata": {
        "id": "vacfehfyDwpK"
      },
      "source": [
        "## Cumulative Sum\n",
        " - The problem is defined as a sequence of random values between 0 and 1. This sequence is taken\n",
        "as input for the problem with each number provided once per time step. A binary label (0 or 1)\n",
        "is associated with each input. The output values are all 0. Once the cumulative sum of the\n",
        "input values in the sequence exceeds a threshold, then the output value flips from 0 to 1.\n"
      ]
    },
    {
      "cell_type": "markdown",
      "metadata": {
        "id": "VASymctJE2r-"
      },
      "source": [
        "## Generate Sequence"
      ]
    },
    {
      "cell_type": "code",
      "metadata": {
        "id": "N3hhACLjFSS8"
      },
      "source": [
        "from numpy import array\n",
        "from numpy import cumsum\n",
        "from random import random\n",
        "from numpy import array_equal\n",
        "from keras.models import Sequential\n",
        "from keras.layers import LSTM\n",
        "from keras.layers import Dense\n",
        "from keras.layers import TimeDistributed\n",
        "from keras.layers import Bidirectional"
      ],
      "execution_count": 8,
      "outputs": []
    },
    {
      "cell_type": "code",
      "metadata": {
        "id": "zmjic3pAAZgU"
      },
      "source": [
        "# create a sequence classification instance\n",
        "def get_sequence(n_timesteps):\n",
        "  # create a sequence of random numbers in [0,1]\n",
        "  X = array([random() for _ in range(n_timesteps) ])\n",
        "  # claculate the cutt-off value to change class values\n",
        "  limit = n_timesteps/4.0\n",
        "  # determine the class outcome for each item in coumulative sequence\n",
        "  y = array([0 if x < limit else 1 for x in cumsum(X)])\n",
        "  return X,y"
      ],
      "execution_count": 9,
      "outputs": []
    },
    {
      "cell_type": "code",
      "metadata": {
        "id": "zuDC6FyHA35C"
      },
      "source": [
        "def get_sequences(n_sequences, n_timesteps):\n",
        "  seqX, seqY = list(), list()\n",
        "  # create and store sequences \n",
        "  for _ in range(n_sequences):\n",
        "    X, y = get_sequence(n_timesteps)\n",
        "    seqX.append(X)\n",
        "    seqY.append(y)\n",
        "  seqX = array(seqX).reshape(n_sequences,n_timesteps,1)\n",
        "  seqY = array(seqY).reshape(n_sequences,n_timesteps,1)\n",
        "  return seqX, seqY"
      ],
      "execution_count": 14,
      "outputs": []
    },
    {
      "cell_type": "code",
      "metadata": {
        "colab": {
          "base_uri": "https://localhost:8080/"
        },
        "id": "H0kkBooUIF1v",
        "outputId": "5bd5a151-c6c7-4af0-e607-ce9f4e256995"
      },
      "source": [
        "# test the get_sequence function\n",
        "X, y = get_sequence(10)\n",
        "print(X)\n",
        "print(y)\n"
      ],
      "execution_count": 11,
      "outputs": [
        {
          "output_type": "stream",
          "text": [
            "[0.32170967 0.25877311 0.59533143 0.32714522 0.85045021 0.97755519\n",
            " 0.73763427 0.95081814 0.07313794 0.58029161]\n",
            "[0 0 0 0 0 1 1 1 1 1]\n"
          ],
          "name": "stdout"
        }
      ]
    },
    {
      "cell_type": "markdown",
      "metadata": {
        "id": "lT1TRZuHHwoe"
      },
      "source": [
        "# Define and fit the model"
      ]
    },
    {
      "cell_type": "code",
      "metadata": {
        "colab": {
          "base_uri": "https://localhost:8080/"
        },
        "id": "VigMnmWvA3yi",
        "outputId": "a091d790-b9b5-444e-e28a-1edb8ea0a52e"
      },
      "source": [
        "# define problem\n",
        "n_timesteps = 10\n",
        "# define LSTM\n",
        "model = Sequential()\n",
        "model.add(Bidirectional(LSTM(50,return_sequences=True),input_shape=(n_timesteps,1)))\n",
        "model.add(TimeDistributed(Dense(1,activation='sigmoid')))\n",
        "model.compile(loss='binary_crossentropy',optimizer='adam',metrics=['acc'])\n",
        "print(model.summary())\n"
      ],
      "execution_count": 12,
      "outputs": [
        {
          "output_type": "stream",
          "text": [
            "Model: \"sequential_1\"\n",
            "_________________________________________________________________\n",
            "Layer (type)                 Output Shape              Param #   \n",
            "=================================================================\n",
            "bidirectional_1 (Bidirection (None, 10, 100)           20800     \n",
            "_________________________________________________________________\n",
            "time_distributed_1 (TimeDist (None, 10, 1)             101       \n",
            "=================================================================\n",
            "Total params: 20,901\n",
            "Trainable params: 20,901\n",
            "Non-trainable params: 0\n",
            "_________________________________________________________________\n",
            "None\n"
          ],
          "name": "stdout"
        }
      ]
    },
    {
      "cell_type": "code",
      "metadata": {
        "colab": {
          "base_uri": "https://localhost:8080/"
        },
        "id": "dA7Inu00A3vk",
        "outputId": "78940f2b-6768-4c9f-abc7-e87b236ff761"
      },
      "source": [
        "# train LSTM\n",
        "X, y = get_sequences(50000, n_timesteps)\n",
        "model.fit(X, y, epochs=1, batch_size=10)"
      ],
      "execution_count": 15,
      "outputs": [
        {
          "output_type": "stream",
          "text": [
            "5000/5000 [==============================] - 33s 6ms/step - loss: 0.1062 - acc: 0.9602\n"
          ],
          "name": "stdout"
        },
        {
          "output_type": "execute_result",
          "data": {
            "text/plain": [
              "<tensorflow.python.keras.callbacks.History at 0x7f3594d127b8>"
            ]
          },
          "metadata": {
            "tags": []
          },
          "execution_count": 15
        }
      ]
    },
    {
      "cell_type": "code",
      "metadata": {
        "colab": {
          "base_uri": "https://localhost:8080/"
        },
        "id": "F8Aa0uaWA3qQ",
        "outputId": "6d2d6092-0405-470d-8da5-651dbdeef1cd"
      },
      "source": [
        "# evaluate LSTM\n",
        "X, y = get_sequences(100, n_timesteps)\n",
        "loss, acc = model.evaluate(X, y, verbose=0)\n",
        "print( 'Loss: %f, Accuracy: %f' % (loss, acc*100))\n"
      ],
      "execution_count": 17,
      "outputs": [
        {
          "output_type": "stream",
          "text": [
            "Loss: 0.025953, Accuracy: 99.100000\n"
          ],
          "name": "stdout"
        }
      ]
    },
    {
      "cell_type": "code",
      "metadata": {
        "colab": {
          "base_uri": "https://localhost:8080/"
        },
        "id": "ITDzohY7A3nX",
        "outputId": "2ee10719-a104-45f0-d586-637a79151705"
      },
      "source": [
        "# make predictions\n",
        "for _ in range(10):\n",
        "  X, y = get_sequences(1, n_timesteps)\n",
        "  yhat = model.predict_classes(X, verbose=0)\n",
        "  exp, pred = y.reshape(n_timesteps), yhat.reshape(n_timesteps)\n",
        "  print('y=%s, yhat=%s, correct=%s' % (exp, pred, array_equal(exp,pred)))\n"
      ],
      "execution_count": 18,
      "outputs": [
        {
          "output_type": "stream",
          "text": [
            "/usr/local/lib/python3.6/dist-packages/tensorflow/python/keras/engine/sequential.py:450: UserWarning: `model.predict_classes()` is deprecated and will be removed after 2021-01-01. Please use instead:* `np.argmax(model.predict(x), axis=-1)`,   if your model does multi-class classification   (e.g. if it uses a `softmax` last-layer activation).* `(model.predict(x) > 0.5).astype(\"int32\")`,   if your model does binary classification   (e.g. if it uses a `sigmoid` last-layer activation).\n",
            "  warnings.warn('`model.predict_classes()` is deprecated and '\n"
          ],
          "name": "stderr"
        },
        {
          "output_type": "stream",
          "text": [
            "y=[0 0 0 1 1 1 1 1 1 1], yhat=[0 0 0 0 1 1 1 1 1 1], correct=False\n",
            "y=[0 0 0 1 1 1 1 1 1 1], yhat=[0 0 0 1 1 1 1 1 1 1], correct=True\n",
            "y=[0 0 0 0 0 0 0 1 1 1], yhat=[0 0 0 0 0 0 0 1 1 1], correct=True\n",
            "y=[0 0 0 0 1 1 1 1 1 1], yhat=[0 0 0 0 1 1 1 1 1 1], correct=True\n",
            "y=[0 0 0 0 0 0 0 0 1 1], yhat=[0 0 0 0 0 0 0 0 1 1], correct=True\n",
            "y=[0 0 0 0 0 0 1 1 1 1], yhat=[0 0 0 0 0 0 1 1 1 1], correct=True\n",
            "y=[0 0 0 0 0 1 1 1 1 1], yhat=[0 0 0 0 0 1 1 1 1 1], correct=True\n",
            "y=[0 0 0 0 0 1 1 1 1 1], yhat=[0 0 0 0 0 1 1 1 1 1], correct=True\n",
            "y=[0 0 0 0 0 0 0 1 1 1], yhat=[0 0 0 0 0 0 0 1 1 1], correct=True\n",
            "y=[0 0 0 0 0 0 1 1 1 1], yhat=[0 0 0 0 0 0 1 1 1 1], correct=True\n"
          ],
          "name": "stdout"
        }
      ]
    },
    {
      "cell_type": "code",
      "metadata": {
        "id": "nTcicFIvA3kJ"
      },
      "source": [
        ""
      ],
      "execution_count": null,
      "outputs": []
    },
    {
      "cell_type": "code",
      "metadata": {
        "id": "F9GT79T3A3f0"
      },
      "source": [
        ""
      ],
      "execution_count": null,
      "outputs": []
    },
    {
      "cell_type": "code",
      "metadata": {
        "id": "msquUtUGA3cs"
      },
      "source": [
        ""
      ],
      "execution_count": null,
      "outputs": []
    },
    {
      "cell_type": "code",
      "metadata": {
        "id": "mFwo5reYA3Wi"
      },
      "source": [
        ""
      ],
      "execution_count": null,
      "outputs": []
    }
  ]
}