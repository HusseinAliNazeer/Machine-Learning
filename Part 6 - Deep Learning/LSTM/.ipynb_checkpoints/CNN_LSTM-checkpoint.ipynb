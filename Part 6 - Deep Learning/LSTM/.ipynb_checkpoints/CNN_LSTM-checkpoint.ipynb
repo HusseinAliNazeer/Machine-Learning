{
 "cells": [
  {
   "cell_type": "markdown",
   "metadata": {
    "id": "59DR525O_ZKc"
   },
   "source": [
    "### Architecture  \n",
    "- The CNN LSTM architecture involving using CNN layers for feature extraction on input data combined with LSTMs to support sequence prediction  \n",
    "***Applications*** \n",
    "- Activity Recognition: generating a textual description of an activity demonstrated in\n",
    "a sequence of images.\n",
    "- Image Description: generating a textual description of a single image.\n",
    "- Video Description: generating a textual description of a sequence of images.  \n"
   ]
  },
  {
   "cell_type": "markdown",
   "metadata": {
    "id": "3EDYwyeD_ZKm"
   },
   "source": [
    "### Implementation\n",
    "-  We want to apply the CNN model to each input image and pass on the\n",
    "output of each input image to the LSTM as a single time step.  \n",
    "- we can achive that by wrapping the entire CNN model in a **TimeDistributed** layer.  \n",
    "-  **TimeDistributed** layer allow us  applying it multiple times to \n",
    "multiple input time steps  and\n",
    "in turn providing a sequence of image interpretations or image features to the LSTM model to\n",
    "work on.  \n",
    "\n",
    "```python\n",
    "#define CNN model\n",
    "cnn = Sequential()\n",
    "cnn.add(Conv2D(...))\n",
    "cnn.add(MaxPooling2D(...))\n",
    "cnn.add(Flatten())\n",
    "#define CNN LSTM model\n",
    "model = Sequential()\n",
    "model.add(TimeDistributed(cnn, ...))\n",
    "model.add(LSTM(..))\n",
    "model.add(Dense(...))\n",
    "```\n",
    "### easier to read approach\n",
    "```python \n",
    "model = Sequential()\n",
    "model.add(TimeDistributed(Conv2D(...))\n",
    "model.add(TimeDistributed(MaxPooling2D(...)))\n",
    "model.add(TimeDistributed(Flatten()))\n",
    "model.add(LSTM(...))\n",
    "model.add(Dense(...))\n",
    "```\n",
    "\n"
   ]
  },
  {
   "cell_type": "markdown",
   "metadata": {
    "id": "qAtcsuyP_ZKn"
   },
   "source": [
    "### Moving Square Video Prediction Problem\n",
    ">The problem involves the generation of a sequence of frames. In each image a line is drawn from left to right or right to left. Each frame shows the extension of the line by one pixel. The task is for the model to classify whether the line moved left or right in the sequence of frames.  \n",
    ">> the problem can be broken into :\n",
    ">>1. Image Initialization.\n",
    ">>2. Adding Steps.\n",
    ">>3. Instance Generator.\n"
   ]
  },
  {
   "cell_type": "code",
   "execution_count": 14,
   "metadata": {
    "id": "dIPg93t1_ZKo"
   },
   "outputs": [],
   "source": [
    "from numpy import zeros \n",
    "from numpy import array\n",
    "from numpy import argmax\n",
    "from random import randint\n",
    "from random import random\n",
    "from keras.models import Sequential\n",
    "from keras.layers import Conv2D\n",
    "from keras.layers import MaxPooling2D\n",
    "from keras.layers import LSTM\n",
    "from keras.layers import Dense\n",
    "from keras.layers import Flatten\n",
    "from keras.layers import TimeDistributed\n",
    "\n",
    "from matplotlib import pyplot"
   ]
  },
  {
   "cell_type": "code",
   "execution_count": 2,
   "metadata": {
    "id": "XBce-tYO_ZKo"
   },
   "outputs": [],
   "source": [
    "# generate the next frame in the sequence \n",
    "def next_frame(last_step,last_frame,column):\n",
    "    #define the scope of the next frame in the sequence\n",
    "    lower = max(0, last_step-1)\n",
    "    upper = min(last_frame.shape[0]-1,last_step+1)\n",
    "    # choose the row index for the next step\n",
    "    step = randint(lower,upper)\n",
    "    # copy the prior frame\n",
    "    frame = last_frame.copy()\n",
    "    #add the new step\n",
    "    frame[step, column] = 1\n",
    "    return frame, step\n",
    "    "
   ]
  },
  {
   "cell_type": "code",
   "execution_count": 3,
   "metadata": {
    "id": "uw3xtt6y_ZKp"
   },
   "outputs": [],
   "source": [
    "# generate a sequence of frames of a dot moving accross an image \n",
    "def build_frames(size):\n",
    "    frames = list()\n",
    "    # create the first frame\n",
    "    frame = zeros((size,size))\n",
    "    step = randint(0,size-1)\n",
    "    # decide if we heading from left or right \n",
    "    right = 1 if random() < 0.5 else 0\n",
    "    col = 0 if right else size-1\n",
    "    frame[step, col]=1\n",
    "    frames.append(frame)\n",
    "    # create all remaining frames\n",
    "    for i in range(1,size):\n",
    "        col = i if right else size-1-i\n",
    "        frame, step = next_frame(step,frame,col)\n",
    "        frames.append(frame)\n",
    "    return frames, right"
   ]
  },
  {
   "cell_type": "code",
   "execution_count": 4,
   "metadata": {
    "colab": {
     "base_uri": "https://localhost:8080/",
     "height": 92
    },
    "id": "hall-r_s_ZKq",
    "outputId": "402f2c2c-7137-4e25-8735-d474502ae3ee"
   },
   "outputs": [
    {
     "data": {
      "image/png": "[encoded data removed]",
      "text/plain": [
       "<Figure size 432x288 with 5 Axes>"
      ]
     },
     "metadata": {
      "needs_background": "light",
      "tags": []
     },
     "output_type": "display_data"
    }
   ],
   "source": [
    "# generate sequence of frames\n",
    "size = 5\n",
    "frames, right = build_frames(size)\n",
    "# plot all feames\n",
    "pyplot.figure()\n",
    "for i in range(size):\n",
    "    # create a grayscale subplot for each frame\n",
    "    pyplot.subplot(1, size, i+1)\n",
    "    pyplot.imshow(frames[i], cmap= 'Greys' )\n",
    "    # turn of the scale to make it cleaer\n",
    "    ax = pyplot.gca()\n",
    "    ax.get_xaxis().set_visible(False)\n",
    "    ax.get_yaxis().set_visible(False)\n",
    "# show the plot\n",
    "pyplot.show()"
   ]
  },
  {
   "cell_type": "code",
   "execution_count": 5,
   "metadata": {
    "id": "FklQqA0n_ZKs"
   },
   "outputs": [],
   "source": [
    "#generate multiple sequnces of frames and reshape for network input\n",
    "def generate_examples(size,n_patterns):\n",
    "    X, y = list(), list()\n",
    "    for _ in range(n_patterns):\n",
    "        frames, right = build_frames(size)\n",
    "        X.append(frames)\n",
    "        y.append(right)\n",
    "    #resize as [samples, timesteps, width, height, chanels]\n",
    "    X=array(X).reshape(n_patterns, size, size, size, 1)\n",
    "    y=array(y).reshape(n_patterns,1)\n",
    "    return X,y"
   ]
  },
  {
   "cell_type": "code",
   "execution_count": 6,
   "metadata": {
    "colab": {
     "base_uri": "https://localhost:8080/"
    },
    "id": "2qEImcVo_ZKs",
    "outputId": "3eec89e0-6f59-4efb-c22a-eba2d2ea0690"
   },
   "outputs": [
    {
     "name": "stdout",
     "output_type": "stream",
     "text": [
      "Model: \"sequential\"\n",
      "_________________________________________________________________\n",
      "Layer (type)                 Output Shape              Param #   \n",
      "=================================================================\n",
      "time_distributed (TimeDistri (None, None, 49, 49, 2)   10        \n",
      "_________________________________________________________________\n",
      "time_distributed_1 (TimeDist (None, None, 24, 24, 2)   0         \n",
      "_________________________________________________________________\n",
      "time_distributed_2 (TimeDist (None, None, 1152)        0         \n",
      "_________________________________________________________________\n",
      "lstm (LSTM)                  (None, 50)                240600    \n",
      "_________________________________________________________________\n",
      "dense (Dense)                (None, 1)                 51        \n",
      "=================================================================\n",
      "Total params: 240,661\n",
      "Trainable params: 240,661\n",
      "Non-trainable params: 0\n",
      "_________________________________________________________________\n",
      "None\n"
     ]
    }
   ],
   "source": [
    "# configure problem\n",
    "size = 50 \n",
    "\n",
    "# define the model\n",
    "model = Sequential()\n",
    "model.add(TimeDistributed(Conv2D(2, (2,2), activation='relu'),input_shape=(None,size,size,1)))\n",
    "model.add(TimeDistributed(MaxPooling2D(pool_size=(2, 2))))\n",
    "model.add(TimeDistributed(Flatten()))\n",
    "model.add(LSTM(50))\n",
    "model.add(Dense(1,activation='sigmoid'))\n",
    "model.compile(loss='binary_crossentropy',optimizer='adam',metrics=['acc'])\n",
    "print(model.summary())"
   ]
  },
  {
   "cell_type": "code",
   "execution_count": 10,
   "metadata": {
    "id": "1GCc1k5nAVcc"
   },
   "outputs": [],
   "source": []
  },
  {
   "cell_type": "code",
   "execution_count": 8,
   "metadata": {
    "colab": {
     "base_uri": "https://localhost:8080/"
    },
    "id": "GPGD9IIQ_ZKt",
    "outputId": "a92806b4-9459-4cb0-9119-8a2b6dd60014"
   },
   "outputs": [
    {
     "name": "stdout",
     "output_type": "stream",
     "text": [
      "Epoch 1/5\n",
      "157/157 [==============================] - 110s 686ms/step - loss: 0.3023 - acc: 0.8311\n",
      "Epoch 2/5\n",
      "157/157 [==============================] - 108s 686ms/step - loss: 0.6259 - acc: 0.7153\n",
      "Epoch 3/5\n",
      "157/157 [==============================] - 108s 685ms/step - loss: 0.6898 - acc: 0.5281\n",
      "Epoch 4/5\n",
      "157/157 [==============================] - 106s 678ms/step - loss: 0.5569 - acc: 0.8047\n",
      "Epoch 5/5\n",
      "157/157 [==============================] - 107s 681ms/step - loss: 0.0520 - acc: 1.0000\n"
     ]
    }
   ],
   "source": [
    "# fit model\n",
    "X, y = generate_examples(size, 5000)\n",
    "hist = model.fit(X, y, batch_size=32, epochs=5)\n"
   ]
  },
  {
   "cell_type": "code",
   "execution_count": 10,
   "metadata": {
    "colab": {
     "base_uri": "https://localhost:8080/"
    },
    "id": "t1a0_pu4_ZKt",
    "outputId": "f0b7476f-4c2a-494c-dc2b-1f034c5ac236"
   },
   "outputs": [
    {
     "name": "stdout",
     "output_type": "stream",
     "text": [
      "loss: 0.016308, acc: 100.000000\n"
     ]
    }
   ],
   "source": [
    "# evaluate model\n",
    "X, y = generate_examples(size, 100)\n",
    "loss, acc = model.evaluate(X, y, verbose=0)\n",
    "print( 'loss: %f, acc: %f' % (loss, acc*100))\n"
   ]
  },
  {
   "cell_type": "code",
   "execution_count": 24,
   "metadata": {
    "colab": {
     "base_uri": "https://localhost:8080/"
    },
    "id": "zFO9YdHz_ZKu",
    "outputId": "9118b177-5d4e-4c81-8de2-3d7430df898f"
   },
   "outputs": [
    {
     "name": "stdout",
     "output_type": "stream",
     "text": [
      "Expected: Right, Predicted: Left\n"
     ]
    }
   ],
   "source": [
    "# prediction on new data\n",
    "X, y = generate_examples(size, 1)\n",
    "yhat = argmax(model.predict(X), axis=-1)\n",
    "expected = \"Right\" if y[0]==1 else \"Left\"\n",
    "predicted = \"Right\" if yhat[0]==1 else \"Left\"\n",
    "print( 'Expected: %s, Predicted: %s' % (expected, predicted))\n"
   ]
  },
  {
   "cell_type": "code",
   "execution_count": 8,
   "metadata": {
    "id": "q08ggnkC_ZKu"
   },
   "outputs": [],
   "source": []
  }
 ],
 "metadata": {
  "accelerator": "TPU",
  "colab": {
   "name": "CNN_LSTM.ipynb",
   "provenance": []
  },
  "kernelspec": {
   "display_name": "Python 3",
   "language": "python",
   "name": "python3"
  },
  "language_info": {
   "codemirror_mode": {
    "name": "ipython",
    "version": 3
   },
   "file_extension": ".py",
   "mimetype": "text/x-python",
   "name": "python",
   "nbconvert_exporter": "python",
   "pygments_lexer": "ipython3",
   "version": "3.7.9"
  }
 },
 "nbformat": 4,
 "nbformat_minor": 1
}
