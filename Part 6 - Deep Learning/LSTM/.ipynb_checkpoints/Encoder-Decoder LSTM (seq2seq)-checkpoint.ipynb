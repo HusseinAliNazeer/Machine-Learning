{
 "cells": [
  {
   "cell_type": "markdown",
   "metadata": {},
   "source": [
    "# **Encoder-Decoder LSTM (seq2seq)**"
   ]
  },
  {
   "cell_type": "markdown",
   "metadata": {},
   "source": [
    " >The ***encoder*** maps a variable-length source\n",
    "sequence to a *fixed-length vector*, and the ***decoder*** maps the vector representation\n",
    "back to a *variable-length target sequence*.\n"
   ]
  },
  {
   "cell_type": "markdown",
   "metadata": {},
   "source": [
    " ## **Applications**\n",
    "\n"
   ]
  },
  {
   "cell_type": "markdown",
   "metadata": {},
   "source": [
    ">- Machine Translation : English to French translation of phrases.\n",
    ">- Learning to Execute : calculate the outcome of small programs.\n",
    ">- Image Captioning : generating a text description for images.\n",
    ">- Conversational Modeling : generating answers to textual questions.\n",
    ">- Movement Classification : generating a sequence of commands from a sequence of\n",
    "gestures."
   ]
  },
  {
   "cell_type": "markdown",
   "metadata": {},
   "source": [
    "## **Implementation**\n"
   ]
  },
  {
   "cell_type": "markdown",
   "metadata": {},
   "source": [
    "#### **Encoder**\n",
    "- One or more LSTM layers can be used to implement the encoder model\n",
    "- The number of memory cells in this layer defines the length of this fixed-sized vector.\n",
    "```python\n",
    "model = Sequential()\n",
    "model.add(LSTM(..., input_shape=(...)))\n",
    "```\n"
   ]
  },
  {
   "cell_type": "markdown",
   "metadata": {},
   "source": [
    "#### **Decoder** \n",
    "-  One or more LSTM layers can also be used to implement the\n",
    "decoder model\n",
    "- This model reads from the fixed sized output from the encoder model\n",
    "- a Dense layer is used as the output for the network\n",
    "-  The same weights can\n",
    "be used to output each time step in the output sequence by wrapping the Dense layer in a **TimeDistributed** wrapper.\n",
    "```python\n",
    "model.add(LSTM(..., return_sequences=True))\n",
    "model.add(TimeDistributed(Dense(...)))\n",
    "```\n"
   ]
  },
  {
   "cell_type": "markdown",
   "metadata": {},
   "source": [
    "#### **RepeatVector**\n",
    "- There’s a problem though .That is, the encoder will produce a 2-dimensional matrix of outputs,  The decoder is an LSTM layer that expects a 3D input \n",
    "- RepeatVector : layer simply repeats the provided 2D input multiple times to create a 3D output.\n",
    "```python\n",
    "model.add(RepeatVector(...))\n",
    "```"
   ]
  },
  {
   "cell_type": "markdown",
   "metadata": {},
   "source": [
    "### **Addition Prediction Problem**\n",
    "- The problem is defined as calculating the sum output of two input numbers. This is\n",
    "challenging as each digit and mathematical symbol is provided as a character and the expected\n",
    "output is also expected as characters. For example, the input 10+6 with the output 16 would\n",
    "be represented by the sequences:\n",
    "\n",
    "``` pythoon\n",
    "Input: [ '1' , '0' , '+' , '6' ]\n",
    "Output: [ '1' , '6' ]\n",
    "```\n",
    "- The model must learn not only the integer nature of the characters, but also the nature\n",
    "of the mathematical operation to perform\n"
   ]
  },
  {
   "cell_type": "code",
   "execution_count": 3,
   "metadata": {},
   "outputs": [],
   "source": [
    "from random import seed\n",
    "from random import randint"
   ]
  },
  {
   "cell_type": "code",
   "execution_count": null,
   "metadata": {},
   "outputs": [],
   "source": [
    "# generate lists of random integers and their sum\n",
    "def random_sum_pairs(n_examples,n_numbers,largest):\n",
    "    X,y"
   ]
  },
  {
   "cell_type": "code",
   "execution_count": null,
   "metadata": {},
   "outputs": [],
   "source": []
  },
  {
   "cell_type": "code",
   "execution_count": null,
   "metadata": {},
   "outputs": [],
   "source": []
  },
  {
   "cell_type": "code",
   "execution_count": null,
   "metadata": {},
   "outputs": [],
   "source": []
  },
  {
   "cell_type": "code",
   "execution_count": null,
   "metadata": {},
   "outputs": [],
   "source": []
  }
 ],
 "metadata": {
  "kernelspec": {
   "display_name": "Python 3",
   "language": "python",
   "name": "python3"
  },
  "language_info": {
   "codemirror_mode": {
    "name": "ipython",
    "version": 3
   },
   "file_extension": ".py",
   "mimetype": "text/x-python",
   "name": "python",
   "nbconvert_exporter": "python",
   "pygments_lexer": "ipython3",
   "version": "3.7.9"
  }
 },
 "nbformat": 4,
 "nbformat_minor": 4
}
