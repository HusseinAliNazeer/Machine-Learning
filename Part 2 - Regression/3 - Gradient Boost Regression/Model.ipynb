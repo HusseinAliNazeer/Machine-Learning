{
 "cells": [
  {
   "cell_type": "code",
   "execution_count": 1,
   "metadata": {},
   "outputs": [],
   "source": [
    "# Importing the libraries\n",
    "import numpy as np\n",
    "import matplotlib.pyplot as plt\n",
    "import pandas as pd\n"
   ]
  },
  {
   "cell_type": "code",
   "execution_count": 2,
   "metadata": {},
   "outputs": [],
   "source": [
    "# Importing the dataset\n",
    "dataset = pd.read_csv('housing.csv')\n",
    "X = dataset.iloc[:, :-1].values\n",
    "y = dataset.iloc[:, -1].values"
   ]
  },
  {
   "cell_type": "code",
   "execution_count": 3,
   "metadata": {},
   "outputs": [],
   "source": [
    "# Splitting the dataset into the Training set and Test set\n",
    "from sklearn.model_selection import train_test_split\n",
    "X_train, X_test, y_train, y_test = train_test_split(X, y, test_size = 0.2, random_state = 0)"
   ]
  },
  {
   "cell_type": "code",
   "execution_count": 4,
   "metadata": {},
   "outputs": [
    {
     "name": "stdout",
     "output_type": "stream",
     "text": [
      "[[-0.3337259   0.37472339 -1.05077664 ... -2.4933947   0.31445932\n",
      "  -0.92120636]\n",
      " [-0.38259957 -0.4959495  -0.05990361 ...  0.33106941  0.36114264\n",
      "  -0.9761253 ]\n",
      " [ 0.27122072 -0.4959495   0.99615843 ...  0.78662814  0.43018784\n",
      "  -0.24105638]\n",
      " ...\n",
      " [-0.37815817 -0.4959495  -0.17579519 ... -0.30671281 -0.24147562\n",
      "   0.41093005]\n",
      " [-0.36409601 -0.4959495  -0.62487507 ... -0.26115693  0.43018784\n",
      "   2.58515691]\n",
      " [-0.3825836  -0.4959495  -1.03918748 ... -0.85338328  0.4140504\n",
      "  -0.48044664]]\n",
      "[[-0.38856707 -0.4959495  -1.13190074 ... -0.30671281  0.39157325\n",
      "  -0.59873359]\n",
      " [-0.38371392 -0.4959495  -1.20723027 ... -0.21560106  0.39134271\n",
      "  -1.25072002]\n",
      " [ 0.77409949 -0.4959495   0.99615843 ...  0.78662814  0.23192782\n",
      "   0.7855054 ]\n",
      " ...\n",
      " [-0.37346698  0.59239161 -0.88273384 ...  0.55884878  0.21325449\n",
      "   0.27996949]\n",
      " [-0.36002073 -0.4959495  -0.22215183 ...  0.33106941  0.43018784\n",
      "   1.22344877]\n",
      " [-0.37845016 -0.4959495  -0.38584869 ...  1.10551925  0.41105344\n",
      "  -0.02560514]]\n"
     ]
    }
   ],
   "source": [
    "# Feature Scaling\n",
    "from sklearn.preprocessing import StandardScaler\n",
    "sc = StandardScaler()\n",
    "X_train= sc.fit_transform(X_train)\n",
    "X_test = sc.transform(X_test)\n",
    "print(X_train)\n",
    "print(X_test)"
   ]
  },
  {
   "cell_type": "code",
   "execution_count": 5,
   "metadata": {},
   "outputs": [],
   "source": [
    "from sklearn.ensemble import GradientBoostingRegressor\n",
    "regressor=GradientBoostingRegressor(random_state=0)\n",
    "regressor.fit(X_train,y_train)\n",
    "y_pred=regressor.predict(X_test)"
   ]
  },
  {
   "cell_type": "code",
   "execution_count": 13,
   "metadata": {},
   "outputs": [
    {
     "name": "stdout",
     "output_type": "stream",
     "text": [
      "5.756162046228013\n"
     ]
    }
   ],
   "source": [
    "from sklearn.metrics import mean_squared_error,r2_score\n",
    "score=mean_squared_error(y_test,y_pred)\n",
    "print(score)"
   ]
  },
  {
   "cell_type": "code",
   "execution_count": 15,
   "metadata": {},
   "outputs": [
    {
     "data": {
      "text/plain": [
       "0.930467284848022"
      ]
     },
     "execution_count": 15,
     "metadata": {},
     "output_type": "execute_result"
    }
   ],
   "source": [
    "r2_score(y_test,y_pred)"
   ]
  },
  {
   "cell_type": "code",
   "execution_count": null,
   "metadata": {},
   "outputs": [],
   "source": [
    "from sklearn.model_selection import GridSearchCV\n",
    "param_grid=[\n",
    "    {'learning_rate':[0.1,0.01,0.001],'n_estimators':[100,150,200]},\n",
    "    {'learning_rate':[0.2,0.02,0.002],'n_estimators':[50,70,90]},\n",
    "]\n",
    "grid_search=GridSearchCV(regressor,param_grid,return_train_score=True,cv=10)\n",
    "grid_search.fit(X_train,y_train)\n",
    "grid_search.best_params_"
   ]
  },
  {
   "cell_type": "code",
   "execution_count": null,
   "metadata": {},
   "outputs": [],
   "source": [
    "\"\"\"\n",
    "learning_rate : float, default=0.1\n",
    "    learning rate shrinks the contribution of each tree by `learning_rate`.\n",
    "    There is a trade-off between learning_rate and n_estimators.\n",
    "\n",
    "n_estimators : int, default=100\n",
    "    The number of boosting stages to perform. Gradient boosting\n",
    "    is fairly robust to over-fitting so a large number usually\n",
    "    results in better performance.\"\"\""
   ]
  }
 ],
 "metadata": {
  "kernelspec": {
   "display_name": "Python 3",
   "language": "python",
   "name": "python3"
  },
  "language_info": {
   "codemirror_mode": {
    "name": "ipython",
    "version": 3
   },
   "file_extension": ".py",
   "mimetype": "text/x-python",
   "name": "python",
   "nbconvert_exporter": "python",
   "pygments_lexer": "ipython3",
   "version": "3.7.7"
  }
 },
 "nbformat": 4,
 "nbformat_minor": 4
}
